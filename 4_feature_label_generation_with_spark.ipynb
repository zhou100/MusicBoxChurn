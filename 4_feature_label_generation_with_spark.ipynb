{
 "cells": [
  {
   "cell_type": "markdown",
   "metadata": {},
   "source": [
    "# Load data into Spark DataFrame"
   ]
  },
  {
   "cell_type": "code",
   "execution_count": 66,
   "metadata": {},
   "outputs": [],
   "source": [
    "from pyspark import SparkContext"
   ]
  },
  {
   "cell_type": "code",
   "execution_count": 67,
   "metadata": {},
   "outputs": [],
   "source": [
    "import pyspark.sql.functions as F"
   ]
  },
  {
   "cell_type": "code",
   "execution_count": 68,
   "metadata": {},
   "outputs": [],
   "source": [
    "# We use matplotlib for plotting\n",
    "import matplotlib.pyplot as plt\n",
    "\n",
    "# This statement allow to display plot without asking to\n",
    "%matplotlib inline"
   ]
  },
  {
   "cell_type": "code",
   "execution_count": 69,
   "metadata": {},
   "outputs": [],
   "source": [
    "# load event data \n",
    "df_play = spark.read.csv('../data/event_play.csv',header=True).cache()\n",
    "df_ds = spark.read.csv('../data/event_down_search.csv',header=True).cache()"
   ]
  },
  {
   "cell_type": "code",
   "execution_count": 70,
   "metadata": {},
   "outputs": [],
   "source": [
    "df = df_play.union(df_ds)"
   ]
  },
  {
   "cell_type": "code",
   "execution_count": 71,
   "metadata": {},
   "outputs": [
    {
     "name": "stdout",
     "output_type": "stream",
     "text": [
      "+---------+-----+--------+----------+\n",
      "|      uid|event| song_id|      date|\n",
      "+---------+-----+--------+----------+\n",
      "|168535490|    P| 6616004|2017-03-30|\n",
      "|168540348|    P|   77260|2017-03-30|\n",
      "|168550572|    P| 4297299|2017-03-30|\n",
      "|168548493|    P| 6661513|2017-03-30|\n",
      "|168550571|    P|       0|2017-03-30|\n",
      "|168548714|    P|23492572|2017-03-30|\n",
      "|168535909|    P| 7145935|2017-03-30|\n",
      "|168550571|    P|       0|2017-03-30|\n",
      "|168532776|    P|20674091|2017-03-30|\n",
      "|168548493|    P|19586155|2017-03-30|\n",
      "|168550564|    P|  708741|2017-03-30|\n",
      "|168549973|    P| 3194852|2017-03-30|\n",
      "|168550571|    P|       0|2017-03-30|\n",
      "|168548239|    P| 6673573|2017-03-30|\n",
      "|168548493|    P|20671123|2017-03-30|\n",
      "|168550571|    P|       0|2017-03-30|\n",
      "|168550571|    P|       0|2017-03-30|\n",
      "|168540348|    P| 6437996|2017-03-30|\n",
      "|168550571|    P|       0|2017-03-30|\n",
      "|168549948|    P|23082492|2017-03-30|\n",
      "+---------+-----+--------+----------+\n",
      "only showing top 20 rows\n",
      "\n"
     ]
    }
   ],
   "source": [
    "df.show()"
   ]
  },
  {
   "cell_type": "code",
   "execution_count": 72,
   "metadata": {},
   "outputs": [
    {
     "data": {
      "text/plain": [
       "DataFrame[uid: string, event: string, song_id: string, date: date]"
      ]
     },
     "execution_count": 72,
     "metadata": {},
     "output_type": "execute_result"
    }
   ],
   "source": [
    "# create new or overwrite original field with withColumn\n",
    "df = df.withColumn('date',F.col('date').cast('date'))\n",
    "df"
   ]
  },
  {
   "cell_type": "code",
   "execution_count": 73,
   "metadata": {},
   "outputs": [
    {
     "name": "stdout",
     "output_type": "stream",
     "text": [
      "+---------+-----+--------+----------+\n",
      "|      uid|event| song_id|      date|\n",
      "+---------+-----+--------+----------+\n",
      "|168535490|    P| 6616004|2017-03-30|\n",
      "|168540348|    P|   77260|2017-03-30|\n",
      "|168550572|    P| 4297299|2017-03-30|\n",
      "|168548493|    P| 6661513|2017-03-30|\n",
      "|168550571|    P|       0|2017-03-30|\n",
      "|168548714|    P|23492572|2017-03-30|\n",
      "|168535909|    P| 7145935|2017-03-30|\n",
      "|168550571|    P|       0|2017-03-30|\n",
      "|168532776|    P|20674091|2017-03-30|\n",
      "|168548493|    P|19586155|2017-03-30|\n",
      "|168550564|    P|  708741|2017-03-30|\n",
      "|168549973|    P| 3194852|2017-03-30|\n",
      "|168550571|    P|       0|2017-03-30|\n",
      "|168548239|    P| 6673573|2017-03-30|\n",
      "|168548493|    P|20671123|2017-03-30|\n",
      "|168550571|    P|       0|2017-03-30|\n",
      "|168550571|    P|       0|2017-03-30|\n",
      "|168540348|    P| 6437996|2017-03-30|\n",
      "|168550571|    P|       0|2017-03-30|\n",
      "|168549948|    P|23082492|2017-03-30|\n",
      "+---------+-----+--------+----------+\n",
      "only showing top 20 rows\n",
      "\n"
     ]
    }
   ],
   "source": [
    "df.show()"
   ]
  },
  {
   "cell_type": "markdown",
   "metadata": {},
   "source": [
    "# Some exploration"
   ]
  },
  {
   "cell_type": "code",
   "execution_count": 74,
   "metadata": {},
   "outputs": [
    {
     "data": {
      "text/plain": [
       "12277951"
      ]
     },
     "execution_count": 74,
     "metadata": {},
     "output_type": "execute_result"
    }
   ],
   "source": [
    "# simple count rows\n",
    "df.count()"
   ]
  },
  {
   "cell_type": "code",
   "execution_count": 75,
   "metadata": {},
   "outputs": [
    {
     "data": {
      "text/plain": [
       "59235"
      ]
     },
     "execution_count": 75,
     "metadata": {},
     "output_type": "execute_result"
    }
   ],
   "source": [
    "# select operation, count distinct rows\n",
    "df.select('uid').distinct().count()"
   ]
  },
  {
   "cell_type": "code",
   "execution_count": 76,
   "metadata": {},
   "outputs": [
    {
     "name": "stdout",
     "output_type": "stream",
     "text": [
      "+-----+--------+\n",
      "|event|   count|\n",
      "+-----+--------+\n",
      "|    D|  614053|\n",
      "|    S|  751184|\n",
      "|    P|10912714|\n",
      "+-----+--------+\n",
      "\n"
     ]
    }
   ],
   "source": [
    "# group by aggregation\n",
    "df.groupBy('event').count().show()"
   ]
  },
  {
   "cell_type": "code",
   "execution_count": 77,
   "metadata": {},
   "outputs": [
    {
     "name": "stdout",
     "output_type": "stream",
     "text": [
      "+-----+--------+--------+\n",
      "|event|   count| max_uid|\n",
      "+-----+--------+--------+\n",
      "|    D|  614053|99765326|\n",
      "|    S|  751184|99765326|\n",
      "|    P|10912714|99765326|\n",
      "+-----+--------+--------+\n",
      "\n"
     ]
    }
   ],
   "source": [
    "# group by aggregation, more general (count, min, max, mean), multiple at once\n",
    "df.groupBy('event').agg(\n",
    "    F.count(F.col('uid')).alias('count'),\n",
    "    F.max(F.col('uid')).alias('max_uid')\n",
    ").show()"
   ]
  },
  {
   "cell_type": "code",
   "execution_count": 78,
   "metadata": {},
   "outputs": [
    {
     "name": "stdout",
     "output_type": "stream",
     "text": [
      "+----------+-----+------+\n",
      "|      date|event| count|\n",
      "+----------+-----+------+\n",
      "|2017-04-01|    D| 28719|\n",
      "|2017-04-01|    P|489151|\n",
      "|2017-04-01|    S| 33278|\n",
      "|2017-04-02|    D| 30561|\n",
      "|2017-04-02|    P|448858|\n",
      "|2017-04-02|    S| 30701|\n",
      "|2017-04-03|    D| 20528|\n",
      "|2017-04-03|    P|254741|\n",
      "|2017-04-03|    S| 24203|\n",
      "|2017-04-04|    D| 20932|\n",
      "|2017-04-04|    P|371611|\n",
      "|2017-04-04|    S| 23604|\n",
      "|2017-04-05|    D| 14866|\n",
      "|2017-04-05|    P|310301|\n",
      "|2017-04-05|    S| 18990|\n",
      "+----------+-----+------+\n",
      "\n"
     ]
    }
   ],
   "source": [
    "# filter operation\n",
    "# group by aggregation\n",
    "# order by operation\n",
    "df.filter((F.col('date')>='2017-04-01') & (F.col('date')<='2017-04-05')) \\\n",
    "                    .groupBy('date','event').count() \\\n",
    "                    .orderBy('date','event').show()"
   ]
  },
  {
   "cell_type": "code",
   "execution_count": 79,
   "metadata": {},
   "outputs": [],
   "source": [
    "# transform to pandas dataframe\n",
    "date_count = df.groupBy('date').count().toPandas()"
   ]
  },
  {
   "cell_type": "code",
   "execution_count": 80,
   "metadata": {},
   "outputs": [
    {
     "data": {
      "text/plain": [
       "(array([ 736419.,  736426.,  736433.,  736440.,  736447.,  736454.,  736461.]),\n",
       " <a list of 7 Text xticklabel objects>)"
      ]
     },
     "execution_count": 80,
     "metadata": {},
     "output_type": "execute_result"
    },
    {
     "data": {
      "image/png": "[encoded data removed]",
      "text/plain": [
       "<matplotlib.figure.Figure at 0x11b32d860>"
      ]
     },
     "metadata": {},
     "output_type": "display_data"
    }
   ],
   "source": [
    "# plot count by date  \n",
    "plt.bar(date_count['date'],date_count['count'])\n",
    "plt.xticks(rotation='vertical')"
   ]
  },
  {
   "cell_type": "markdown",
   "metadata": {},
   "source": [
    "# Label definition"
   ]
  },
  {
   "cell_type": "code",
   "execution_count": 81,
   "metadata": {},
   "outputs": [
    {
     "name": "stdout",
     "output_type": "stream",
     "text": [
      "label window: 2017-04-29 ~ 2017-05-12 days: 14\n",
      "feature window: 2017-03-30 ~ 2017-04-28 days: 30\n"
     ]
    }
   ],
   "source": [
    "import datetime\n",
    "from dateutil import parser\n",
    "\n",
    "label_window_size = 14\n",
    "label_window_end_date = parser.parse('2017-05-12').date()\n",
    "label_window_start_date = label_window_end_date - datetime.timedelta(label_window_size - 1)\n",
    "print('label window:',label_window_start_date,'~',label_window_end_date,'days:',label_window_size)\n",
    "\n",
    "feature_window_size = 30\n",
    "feature_window_end_date = label_window_start_date - datetime.timedelta(1)\n",
    "feature_window_start_date = feature_window_end_date  - datetime.timedelta(feature_window_size - 1)\n",
    "print('feature window:',feature_window_start_date,'~',feature_window_end_date,'days:',feature_window_size)"
   ]
  },
  {
   "cell_type": "code",
   "execution_count": 82,
   "metadata": {},
   "outputs": [],
   "source": [
    "# all the uid we will model: \n",
    "# users that has actitvity during the window defined\n",
    "df_model_uid = df.filter((F.col('date')>=feature_window_start_date) & (F.col('date')<=feature_window_end_date))\\\n",
    "                    .select('uid').distinct()\n",
    "# active in label window (active label=0) i.e. active users defined as 0. \n",
    "# active as in at least one event occured during the window time. \n",
    "df_active_uid_in_label_window = df.filter((F.col('date')>=label_window_start_date) & (F.col('date')<=label_window_end_date))\\\n",
    "                            .select('uid').distinct().withColumn('label',F.lit(0))"
   ]
  },
  {
   "cell_type": "code",
   "execution_count": 83,
   "metadata": {},
   "outputs": [],
   "source": [
    "# prepare label data (churn label=1; active label=0)\n",
    "# use left join,and the none \n",
    "# 1 is churn \n",
    "df_label = df_model_uid.join(df_active_uid_in_label_window,on=['uid'],how='left')\n",
    "df_label = df_label.fillna(1)"
   ]
  },
  {
   "cell_type": "code",
   "execution_count": 84,
   "metadata": {},
   "outputs": [
    {
     "name": "stdout",
     "output_type": "stream",
     "text": [
      "+-----+-----+\n",
      "|label|count|\n",
      "+-----+-----+\n",
      "|    1|35989|\n",
      "|    0|21954|\n",
      "+-----+-----+\n",
      "\n"
     ]
    }
   ],
   "source": [
    "# churned about 60% \n",
    "df_label.groupBy('label').count().show()"
   ]
  },
  {
   "cell_type": "markdown",
   "metadata": {},
   "source": [
    "# Feature generation"
   ]
  },
  {
   "cell_type": "code",
   "execution_count": null,
   "metadata": {},
   "outputs": [],
   "source": [
    "# event_data in feature_window\n",
    "df_feature_window = df.filter((F.col('date')>=feature_window_start_date) & (F.col('date')<=feature_window_end_date))"
   ]
  },
  {
   "cell_type": "markdown",
   "metadata": {},
   "source": [
    "### Frequency features"
   ]
  },
  {
   "cell_type": "markdown",
   "metadata": {},
   "source": [
    "##### method 1"
   ]
  },
  {
   "cell_type": "code",
   "execution_count": null,
   "metadata": {},
   "outputs": [],
   "source": [
    "# define a function to generate frequency features\n",
    "def frequency_feature_generation(df,event,time_window,snapshot_date):\n",
    "    \"\"\"\n",
    "    generate frequency features for one event type and one time window\n",
    "    \"\"\"\n",
    "    # filter by event \n",
    "    # then filter by date, date should be ending at a given data , and start at enddate-window size\n",
    "    # then group by uid and count uid to generate frequency\n",
    "\n",
    "\n",
    "    df_frequency = df \\\n",
    "        .filter(F.col('event')==event) \\\n",
    "        .filter((F.col('date')>=snapshot_date-datetime.timedelta(time_window-1)) & (F.col('date')<=snapshot_date)) \\\n",
    "        .groupBy('uid').agg(F.count(F.col('uid')).alias('freq_'+event+'_last_'+str(time_window)))      \n",
    "\n",
    "    return df_frequency"
   ]
  },
  {
   "cell_type": "code",
   "execution_count": null,
   "metadata": {},
   "outputs": [],
   "source": [
    "# generate one feature to try out\n",
    "event = 'S'\n",
    "time_window = 3\n",
    "snapshot_date = feature_window_end_date\n",
    "# call the function and return data frame \n",
    "df_frequency = frequency_feature_generation(df_feature_window,event,time_window,snapshot_date)"
   ]
  },
  {
   "cell_type": "code",
   "execution_count": null,
   "metadata": {},
   "outputs": [],
   "source": [
    "df_frequency.show(5)"
   ]
  },
  {
   "cell_type": "code",
   "execution_count": null,
   "metadata": {},
   "outputs": [],
   "source": [
    "# generate frequency features for all event_list, time_window_list\n",
    "event_list = ['P','D','S']\n",
    "# for different time window \n",
    "time_window_list = [1,3,7,14,30]\n",
    "df_feature_list = []\n",
    "for event in event_list:\n",
    "    for time_window in time_window_list:\n",
    "        df_feature_list.append(frequency_feature_generation(df_feature_window,event,time_window,snapshot_date))\n"
   ]
  },
  {
   "cell_type": "code",
   "execution_count": null,
   "metadata": {},
   "outputs": [],
   "source": [
    "df_feature_list"
   ]
  },
  {
   "cell_type": "markdown",
   "metadata": {},
   "source": [
    "##### method 2: too many dfs to join? do it another way"
   ]
  },
  {
   "cell_type": "markdown",
   "metadata": {},
   "source": [
    "define a function to generate frequency features for a list of time windows\n",
    "using when().otherwise(), and list comprehension trick!\n",
    "def frequency_feature_generation_time_windows(df,event,time_window_list,snapshot_date):\n",
    "    \"\"\"\n",
    "    generate frequency features for one event type and a list of time windows\n",
    "    \"\"\"\n",
    "    df_feature = df \\\n",
    "        .filter(F.col('event')==event) \\\n",
    "        .groupBy('uid') \\\n",
    "        .agg(*[F.sum(F.when((F.col('date')>=snapshot_date-datetime.timedelta(time_window-1)) & (F.col('date')<=snapshot_date),1).otherwise(0)).alias('freq_'+event+'_last_'+str(time_window)) \\\n",
    "                for time_window in time_window_list]\n",
    "            )# *[] opens list and make them comma separated\n",
    "    return df_feature"
   ]
  },
  {
   "cell_type": "markdown",
   "metadata": {},
   "source": [
    "generate one event type, all time windows \n",
    "event = 'S'\n",
    "time_window_list = [1,3,7,14,30]\n",
    "snapshot_date = feature_window_end_date\n",
    "df_feature = frequency_feature_generation_time_windows(df_feature_window,event,time_window_list,snapshot_date)\n",
    "df_feature.show(5)"
   ]
  },
  {
   "cell_type": "markdown",
   "metadata": {},
   "source": [
    " generate frequency features for all event_list, time_window_list\n",
    "event_list = ['P','D','S']\n",
    "time_window_list = [1,3,7,14,30]\n",
    "df_feature_list = []\n",
    "for event in event_list:\n",
    "    df_feature_list.append(frequency_feature_generation_time_windows(df_feature_window,event,time_window_list,snapshot_date))\n"
   ]
  },
  {
   "cell_type": "markdown",
   "metadata": {},
   "source": [
    "df_feature_list"
   ]
  },
  {
   "cell_type": "markdown",
   "metadata": {},
   "source": [
    "### Recency features"
   ]
  },
  {
   "cell_type": "code",
   "execution_count": null,
   "metadata": {},
   "outputs": [],
   "source": [
    "# defined as days from last event\n",
    "# can generate one feature for each type of event\n",
    "\n",
    "def recency_feature_generation(df,event,time_window,snapshot_date):\n",
    "    \"\"\"\n",
    "    generate recency features for one event type and one time window\n",
    "    \"\"\"   \n",
    "    # filter by event \n",
    "\n",
    "    # then filter by date. Date should be ending at a given data , and start at end_date minus the window size\n",
    "\n",
    "    # then group by uid and calculate the most recent event date (max date) \n",
    "\n",
    "\n",
    "    df_recency = df \\\n",
    "        .filter(F.col('event')==event) \\\n",
    "        .filter((F.col('date')>=snapshot_date-datetime.timedelta(time_window-1)) & (F.col('date')<=snapshot_date)) \\\n",
    "        .groupBy('uid').agg(F.max(F.col('date'))\n",
    "        .alias('most_recent_date'))\n",
    "                            \n",
    "    col_name = 'recent_'+event+'_last_'+str(time_window)  \n",
    "    \n",
    "    # finally, calculate the dates from the \n",
    "    df_recency =  df_recency \\\n",
    "        .withColumn(col_name,F.datediff(F.lit(snapshot_date),F.col(\"most_recent_date\"))) \\\n",
    "        .select(\"uid\",col_name)\n",
    "        \n",
    "\n",
    "    return df_recency\n",
    "\n"
   ]
  },
  {
   "cell_type": "code",
   "execution_count": null,
   "metadata": {},
   "outputs": [],
   "source": [
    "# generate one feature to try out\n",
    "event = 'S'\n",
    "time_window = 7\n",
    "snapshot_date = feature_window_end_date\n",
    "# call the function and return data frame \n",
    "df_recency = recency_feature_generation(df_feature_window,event,time_window,snapshot_date)"
   ]
  },
  {
   "cell_type": "code",
   "execution_count": null,
   "metadata": {},
   "outputs": [],
   "source": [
    "df_recency.show()"
   ]
  },
  {
   "cell_type": "code",
   "execution_count": null,
   "metadata": {},
   "outputs": [],
   "source": [
    "event_list = ['P','D','S']\n",
    "# for different time window \n",
    "time_window_list = [7,14,30]\n",
    "for event in event_list:\n",
    "    for time_window in time_window_list:\n",
    "        df_feature_list.append(recency_feature_generation(df_feature_window,event,time_window,snapshot_date))\n"
   ]
  },
  {
   "cell_type": "markdown",
   "metadata": {},
   "source": [
    "### Profile features"
   ]
  },
  {
   "cell_type": "code",
   "execution_count": null,
   "metadata": {},
   "outputs": [],
   "source": [
    "df_play = spark.read.csv('../data/play_ds.csv',header=True)\n",
    "df_play.show(5)"
   ]
  },
  {
   "cell_type": "code",
   "execution_count": null,
   "metadata": {},
   "outputs": [],
   "source": [
    "# filter by the date window and select profile related features\n",
    "df_play_feature_window = df_play.filter((F.col('date')>=feature_window_start_date) & (F.col('date')<=feature_window_end_date))\n",
    "df_profile_tmp = df_play_feature_window.select('uid','device').distinct()"
   ]
  },
  {
   "cell_type": "code",
   "execution_count": null,
   "metadata": {},
   "outputs": [],
   "source": [
    "df_profile_tmp.groupBy('device').count().show()"
   ]
  },
  {
   "cell_type": "code",
   "execution_count": null,
   "metadata": {},
   "outputs": [],
   "source": [
    "# check if one user has two devices\n",
    "df_profile_tmp.count()"
   ]
  },
  {
   "cell_type": "code",
   "execution_count": null,
   "metadata": {},
   "outputs": [],
   "source": [
    "df_profile_tmp.distinct().count()"
   ]
  },
  {
   "cell_type": "code",
   "execution_count": null,
   "metadata": {},
   "outputs": [],
   "source": [
    "# select iphone as 1 and others as 2(mostly andriod)\n",
    "df_profile_tmp = df_profile_tmp.withColumn('device_type',F.when(F.col('device')=='ip',1).otherwise(2))\n",
    "df_profile_tmp.groupBy('device_type').count().show()"
   ]
  },
  {
   "cell_type": "code",
   "execution_count": null,
   "metadata": {},
   "outputs": [],
   "source": [
    "df_profile = df_label.select('uid').join(df_profile_tmp.select('uid','device_type'),on='uid',how='inner')\n",
    "df_profile.groupBy('device_type').count().show()"
   ]
  },
  {
   "cell_type": "code",
   "execution_count": null,
   "metadata": {},
   "outputs": [],
   "source": [
    "df_profile.show()"
   ]
  },
  {
   "cell_type": "markdown",
   "metadata": {},
   "source": [
    "### Total play time features"
   ]
  },
  {
   "cell_type": "code",
   "execution_count": null,
   "metadata": {},
   "outputs": [],
   "source": [
    "# generate total song play time features (using play_ds data) for different time window\n",
    "# using play data\n",
    "\n",
    "# filter by the date window and select song play time related features\n",
    "\n",
    "#  uid|device|song_id|      date|play_time|song_length|\n",
    "    \n",
    "df_play_feature_window = df_play.filter((F.col('date')>=feature_window_start_date) & (F.col('date')<=feature_window_end_date))\n",
    "\n",
    "# filter play time that are not positive\n",
    "df_play_time_tmp = df_play_feature_window.select('uid','play_time').distinct() \\\n",
    "                                         .filter(F.col('play_time')>0)\n",
    "\n"
   ]
  },
  {
   "cell_type": "code",
   "execution_count": null,
   "metadata": {},
   "outputs": [],
   "source": [
    "df_play_time_tmp.show(5)"
   ]
  },
  {
   "cell_type": "code",
   "execution_count": null,
   "metadata": {},
   "outputs": [],
   "source": [
    "# function for generating Total play time by user, in a given time window \n",
    "\n",
    "def playtime_feature_generation(df,time_window,snapshot_date):\n",
    "    \"\"\"\n",
    "    generate playtime features for one time window\n",
    "    \"\"\"   \n",
    "    # then filter by date. Date should be ending at a given data , and start at end_date minus the window size\n",
    "\n",
    "    # then group by uid and calculate the most recent event date (max date) \n",
    "\n",
    "\n",
    "    df_playtime = df \\\n",
    "        .filter((F.col('date')>=snapshot_date-datetime.timedelta(time_window-1)) & (F.col('date')<=snapshot_date)) \\\n",
    "        .groupBy('uid').agg(F.sum(F.col('play_time')).alias('tot_playtime'+'_last_'+str(time_window)))      \n",
    "\n",
    "    return df_playtime\n"
   ]
  },
  {
   "cell_type": "code",
   "execution_count": null,
   "metadata": {},
   "outputs": [],
   "source": [
    "# generate one feature to try out\n",
    "time_window = 7\n",
    "snapshot_date = feature_window_end_date\n",
    "# call the function and return data frame \n",
    "df_playtime = playtime_feature_generation(df_play_time_tmp,time_window,snapshot_date)"
   ]
  },
  {
   "cell_type": "code",
   "execution_count": null,
   "metadata": {},
   "outputs": [],
   "source": [
    "df_playtime.show(5)"
   ]
  },
  {
   "cell_type": "code",
   "execution_count": null,
   "metadata": {},
   "outputs": [],
   "source": [
    "# go on to try this out for all time windows\n",
    "\n",
    "# for different time window \n",
    "time_window_list = [1,3,7,14,30]\n",
    "for time_window in time_window_list:\n",
    "    df_feature_list.append(playtime_feature_generation(df_play_time_tmp,time_window,snapshot_date))\n",
    "\n"
   ]
  },
  {
   "cell_type": "markdown",
   "metadata": {},
   "source": [
    "### Songs fully played"
   ]
  },
  {
   "cell_type": "code",
   "execution_count": null,
   "metadata": {},
   "outputs": [],
   "source": [
    "# using play data (need to clean play time and song length first,\n",
    "# play time may be negative in data,\n",
    "# song length may be zeros)\n",
    "\n",
    "#  uid|device|song_id|  date|play_time|song_length|\n",
    "\n",
    "# filter play time that are not positive\n",
    "df_songs_length = df_play_feature_window.select('uid','play_time','song_length').distinct() \\\n",
    "                                         .filter((F.col('play_time')>0) & (F.col('song_length')>0)) \\\n",
    "                                         .withColumn(\"percent\",F.col('play_time')/F.col('song_length'))\n",
    "                                        \n",
    "\n"
   ]
  },
  {
   "cell_type": "code",
   "execution_count": null,
   "metadata": {},
   "outputs": [],
   "source": [
    "df_songs_length.show(5)"
   ]
  },
  {
   "cell_type": "code",
   "execution_count": null,
   "metadata": {},
   "outputs": [],
   "source": [
    "# Generate counts of songs play 80% of their song length (using play_ds data) for different time window\n",
    "    \n",
    "\n",
    "# function for generating songs play 80% of their song length by user, in a given time window \n",
    "\n",
    "def songs_feature_generation(df,time_window,snapshot_date):\n",
    "    \"\"\"\n",
    "    generate songs count features for one event type and one time window\n",
    "    \"\"\"   \n",
    "    #  filter by date. Date should be ending at a given data , and start at end_date minus the window size\n",
    "    \n",
    "    # filter by percent, should be bigger than 0.8\n",
    "    # aggregate the number of songs per user\n",
    "\n",
    "    df_songs = df \\\n",
    "        .filter((F.col('date')>=snapshot_date-datetime.timedelta(time_window-1)) & (F.col('date')<=snapshot_date)) \\\n",
    "        .filter(F.col('percent')>=0.8) \\\n",
    "        .groupBy('uid').agg(F.count(F.col('uid')).alias('songs_full'+'_last_'+str(time_window)))      \n",
    "\n",
    "\n",
    "    return df_songs\n",
    "\n",
    "\n",
    "\n"
   ]
  },
  {
   "cell_type": "code",
   "execution_count": null,
   "metadata": {},
   "outputs": [],
   "source": [
    "# generate one feature to try out\n",
    "time_window = 7\n",
    "snapshot_date = feature_window_end_date\n",
    "# call the function and return data frame \n",
    "df_songs = songs_feature_generation(df_songs_length,time_window,snapshot_date)"
   ]
  },
  {
   "cell_type": "code",
   "execution_count": null,
   "metadata": {},
   "outputs": [],
   "source": [
    "df_songs.show(5)"
   ]
  },
  {
   "cell_type": "code",
   "execution_count": null,
   "metadata": {},
   "outputs": [],
   "source": [
    "# go on to try this out for all time windows\n",
    "\n",
    "# for different time window \n",
    "time_window_list = [1,3,7,14,30]\n",
    "for time_window in time_window_list:\n",
    "    df_feature_list.append(songs_feature_generation(df_songs_length,time_window,snapshot_date))\n"
   ]
  },
  {
   "cell_type": "markdown",
   "metadata": {},
   "source": [
    "### Mean Play  Percentage Feature\n",
    "\n"
   ]
  },
  {
   "cell_type": "code",
   "execution_count": null,
   "metadata": {},
   "outputs": [],
   "source": [
    "# Generate average songs played progress (using play_ds data) for different time window\n",
    "    \n",
    "\n",
    "# function for generating average of the songs played progress , in a given time window \n",
    "\n",
    "def song_percent_feature_generation(df,time_window,snapshot_date):\n",
    "    \"\"\"\n",
    "    generate average songs played progress features for one time window\n",
    "    \"\"\"   \n",
    "    #  filter by date. Date should be ending at a given data , and start at end_date minus the window size\n",
    "    \n",
    "    # \n",
    "    # then group by uid and calculate the most recent event date (max date) \n",
    "\n",
    "    df_songs_percent = df \\\n",
    "        .filter((F.col('date')>=snapshot_date-datetime.timedelta(time_window-1)) & (F.col('date')<=snapshot_date)) \\\n",
    "        .groupBy('uid').agg(F.mean(F.col('percent')).alias('mean_percent'+'_last_'+str(time_window)))      \n",
    "\n",
    "\n",
    "    return df_songs_percent\n",
    "\n",
    "\n"
   ]
  },
  {
   "cell_type": "code",
   "execution_count": null,
   "metadata": {},
   "outputs": [],
   "source": [
    "# generate one feature to try out\n",
    "time_window = 7\n",
    "snapshot_date = feature_window_end_date\n",
    "# call the function and return data frame \n",
    "df_songs_percent = song_percent_feature_generation(df_songs_length,time_window,snapshot_date)"
   ]
  },
  {
   "cell_type": "code",
   "execution_count": null,
   "metadata": {},
   "outputs": [],
   "source": [
    "df_songs_percent.show(5)"
   ]
  },
  {
   "cell_type": "code",
   "execution_count": null,
   "metadata": {},
   "outputs": [],
   "source": [
    "# go on to try this out for all time windows\n",
    "\n",
    "# for different time window \n",
    "time_window_list = [1,3,7,14,30]\n",
    "for time_window in time_window_list:\n",
    "    df_feature_list.append(song_percent_feature_generation(df_songs_length,time_window,snapshot_date))\n",
    "\n"
   ]
  },
  {
   "cell_type": "markdown",
   "metadata": {},
   "source": [
    "### SD Play  Percentage Feature\n",
    "\n",
    "\n"
   ]
  },
  {
   "cell_type": "code",
   "execution_count": null,
   "metadata": {},
   "outputs": [],
   "source": [
    "# Generate the sd of songs played progress (using play_ds data) for different time window\n",
    "    \n",
    "\n",
    "# function for generating sd of the songs played progress , in a given time window \n",
    "\n",
    "def song_sd_feature_generation(df,time_window,snapshot_date):\n",
    "    \"\"\"\n",
    "    generate sd songs played progress features for one time window\n",
    "    \"\"\"   \n",
    "    #  filter by date. Date should be ending at a given data , and start at end_date minus the window size\n",
    "    \n",
    "    # \n",
    "    # then group by uid and calculate the most recent event date (max date) \n",
    "\n",
    "    df_songs_sd = df \\\n",
    "        .filter((F.col('date')>=snapshot_date-datetime.timedelta(time_window-1)) & (F.col('date')<=snapshot_date)) \\\n",
    "        .groupBy('uid').agg(F.stddev(F.col('percent')).alias('sd_percent'+'_last_'+str(time_window)))      \n",
    "\n",
    "\n",
    "    return df_songs_sd\n",
    "\n"
   ]
  },
  {
   "cell_type": "code",
   "execution_count": null,
   "metadata": {},
   "outputs": [],
   "source": [
    "# generate one feature to try out\n",
    "time_window = 7\n",
    "snapshot_date = feature_window_end_date\n",
    "# call the function and return data frame \n",
    "df_songs_sd = song_sd_feature_generation(df_songs_length,time_window,snapshot_date)"
   ]
  },
  {
   "cell_type": "code",
   "execution_count": null,
   "metadata": {},
   "outputs": [],
   "source": [
    "df_songs_sd.show(5)"
   ]
  },
  {
   "cell_type": "code",
   "execution_count": null,
   "metadata": {},
   "outputs": [],
   "source": [
    "# go on to try this out for all time windows\n",
    "\n",
    "# for different time window \n",
    "time_window_list = [1,3,7,14,30]\n",
    "for time_window in time_window_list:\n",
    "    df_feature_list.append(song_sd_feature_generation(df_songs_length,time_window,snapshot_date))\n",
    "\n"
   ]
  },
  {
   "cell_type": "code",
   "execution_count": null,
   "metadata": {},
   "outputs": [],
   "source": [
    "df_feature_list[:-1]"
   ]
  },
  {
   "cell_type": "markdown",
   "metadata": {},
   "source": [
    "# Form training data"
   ]
  },
  {
   "cell_type": "code",
   "execution_count": null,
   "metadata": {},
   "outputs": [],
   "source": [
    "# function to join data frames\n",
    "# do left join for df master \n",
    "\n",
    "def join_feature_data(df_master,df_feature_list):\n",
    "    for df_feature in df_feature_list:\n",
    "        df_master = df_master.join(df_feature,on='uid',how='left')\n",
    "        df_master.persist() # uncomment if number of joins is too many\n",
    "    return df_master\n",
    "    "
   ]
  },
  {
   "cell_type": "code",
   "execution_count": 63,
   "metadata": {},
   "outputs": [],
   "source": [
    "df_feature_list.append(df_profile)"
   ]
  },
  {
   "cell_type": "code",
   "execution_count": 64,
   "metadata": {},
   "outputs": [],
   "source": [
    "# join all behavior features\n",
    "df_model_final = join_feature_data(df_label,df_feature_list)"
   ]
  },
  {
   "cell_type": "code",
   "execution_count": null,
   "metadata": {},
   "outputs": [],
   "source": [
    "# join all profile features\n",
    "# df_model_final = join_feature_data(df_model_final,[df_profile])"
   ]
  },
  {
   "cell_type": "code",
   "execution_count": 65,
   "metadata": {},
   "outputs": [],
   "source": [
    "# write into a csv \n",
    "df_model_final.fillna(0).toPandas().to_csv('../data/df_model_final.csv',index=False)"
   ]
  },
  {
   "cell_type": "code",
   "execution_count": null,
   "metadata": {},
   "outputs": [],
   "source": []
  },
  {
   "cell_type": "code",
   "execution_count": null,
   "metadata": {},
   "outputs": [],
   "source": []
  },
  {
   "cell_type": "code",
   "execution_count": null,
   "metadata": {},
   "outputs": [],
   "source": []
  },
  {
   "cell_type": "code",
   "execution_count": null,
   "metadata": {},
   "outputs": [],
   "source": []
  }
 ],
 "metadata": {
  "kernelspec": {
   "display_name": "Python 3",
   "language": "python",
   "name": "python3"
  }
 },
 "nbformat": 4,
 "nbformat_minor": 2
}
